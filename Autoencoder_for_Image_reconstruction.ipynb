{
  "nbformat": 4,
  "nbformat_minor": 0,
  "metadata": {
    "colab": {
      "provenance": []
    },
    "kernelspec": {
      "name": "python3",
      "display_name": "Python 3"
    },
    "language_info": {
      "name": "python"
    },
    "accelerator": "GPU",
    "gpuClass": "standard"
  },
  "cells": [
    {
      "cell_type": "code",
      "execution_count": null,
      "metadata": {
        "colab": {
          "base_uri": "https://localhost:8080/"
        },
        "id": "dkdkKbcYoT4L",
        "outputId": "79101c04-d536-470e-a730-c4a52fac1d8a"
      },
      "outputs": [
        {
          "output_type": "stream",
          "name": "stdout",
          "text": [
            "Mounted at /content/drive\n"
          ]
        }
      ],
      "source": [
        "from google.colab import drive\n",
        "drive.mount('/content/drive')"
      ]
    },
    {
      "cell_type": "code",
      "source": [
        "import os\n",
        "import torch\n",
        "import torchvision\n",
        "import torch.nn as nn\n",
        "import torchvision.transforms as transforms\n",
        "import torch.optim as optim\n",
        "import torch.nn.functional as F\n",
        "import matplotlib.pyplot as plt\n",
        "from torchvision import datasets\n",
        "from torch.utils.data import DataLoader\n",
        "from torchvision.utils import save_image\n"
      ],
      "metadata": {
        "id": "0Ub_oqMEoWrD"
      },
      "execution_count": null,
      "outputs": []
    },
    {
      "cell_type": "code",
      "source": [
        "def get_device():\n",
        "    if torch.cuda.is_available():\n",
        "        device = 'cuda:0'\n",
        "    else:\n",
        "        device = 'cpu'\n",
        "    return device"
      ],
      "metadata": {
        "id": "DW8KxrN4oWoU"
      },
      "execution_count": null,
      "outputs": []
    },
    {
      "cell_type": "code",
      "source": [
        "transform = transforms.Compose([\n",
        "    transforms.ToTensor(),\n",
        "    transforms.Normalize((0.5, 0.5, 0.5), (0.5, 0.5, 0.5))\n",
        "])"
      ],
      "metadata": {
        "id": "rh-JrebTosuQ"
      },
      "execution_count": null,
      "outputs": []
    },
    {
      "cell_type": "code",
      "source": [
        "epoch_num = 10\n",
        "lr = 1e-3\n",
        "batchsize = 32"
      ],
      "metadata": {
        "id": "Nr5cYgN0rDG5"
      },
      "execution_count": null,
      "outputs": []
    },
    {
      "cell_type": "code",
      "source": [
        "trainset = datasets.CIFAR10(root='./data',train=True, download=True, transform=transform)\n",
        "\n",
        "testset = datasets.CIFAR10(root='./data', train=False, download=True,transform=transform)\n",
        "\n",
        "trainloader = DataLoader(trainset, batch_size=batchsize, shuffle=True)\n",
        "\n",
        "testloader = DataLoader(testset, batch_size=batchsize, shuffle=True)"
      ],
      "metadata": {
        "colab": {
          "base_uri": "https://localhost:8080/"
        },
        "id": "w2N1wePioWls",
        "outputId": "15e932be-3e45-4751-bee3-c596264fd0e1"
      },
      "execution_count": null,
      "outputs": [
        {
          "output_type": "stream",
          "name": "stdout",
          "text": [
            "Downloading https://www.cs.toronto.edu/~kriz/cifar-10-python.tar.gz to ./data/cifar-10-python.tar.gz\n"
          ]
        },
        {
          "output_type": "stream",
          "name": "stderr",
          "text": [
            "100%|██████████| 170498071/170498071 [00:06<00:00, 26091155.54it/s] \n"
          ]
        },
        {
          "output_type": "stream",
          "name": "stdout",
          "text": [
            "Extracting ./data/cifar-10-python.tar.gz to ./data\n",
            "Files already downloaded and verified\n"
          ]
        }
      ]
    },
    {
      "cell_type": "code",
      "source": [
        "def save_recon_image(img, name):\n",
        "    img = img.view(img.size(0), 3, 32, 32)\n",
        "    save_image(img, name)\n",
        "\n",
        "def make_dir():\n",
        "    image_dir = 'AE_Conv_CIFAR10_Images'\n",
        "    if not os.path.exists(image_dir):\n",
        "        os.makedirs(image_dir)"
      ],
      "metadata": {
        "id": "azw5Ij_BoWiq"
      },
      "execution_count": null,
      "outputs": []
    },
    {
      "cell_type": "code",
      "source": [
        "class Autoencoder(nn.Module):\n",
        "    def __init__(self):\n",
        "        super(Autoencoder, self).__init__()\n",
        "        # encoder\n",
        "        self.encoder = nn.Sequential(\n",
        "            nn.Conv2d(3, 8, 3, stride=1, padding=0),            # [batch, 12, 16, 16]\n",
        "            nn.ReLU(),\n",
        "            nn.Conv2d(8, 8, 3, stride=1, padding=0),           # [batch, 24, 8, 8]\n",
        "            nn.ReLU(),\n",
        "        )\n",
        "        self.decoder = nn.Sequential(\n",
        "#\n",
        "            nn.ConvTranspose2d(8, 8, 3, stride=1, padding=0),  # [batch, 24, 8, 8]\n",
        "            nn.ReLU(),\n",
        "            nn.ConvTranspose2d(8, 3, 3, stride=1, padding=0),   # [batch, 3, 32, 32]\n",
        "            nn.Tanh(),\n",
        "        )\n",
        "\n",
        "    def forward(self, x):\n",
        "        encoded = self.encoder(x)\n",
        "        decoded = self.decoder(encoded)\n",
        "        return decoded\n",
        "\n",
        "model = Autoencoder()\n",
        "print(model)"
      ],
      "metadata": {
        "colab": {
          "base_uri": "https://localhost:8080/"
        },
        "id": "AoNUltF1oWf2",
        "outputId": "1640459d-eac0-4060-d791-250240828f0d"
      },
      "execution_count": null,
      "outputs": [
        {
          "output_type": "stream",
          "name": "stdout",
          "text": [
            "Autoencoder(\n",
            "  (encoder): Sequential(\n",
            "    (0): Conv2d(3, 8, kernel_size=(3, 3), stride=(1, 1))\n",
            "    (1): ReLU()\n",
            "    (2): Conv2d(8, 8, kernel_size=(3, 3), stride=(1, 1))\n",
            "    (3): ReLU()\n",
            "  )\n",
            "  (decoder): Sequential(\n",
            "    (0): ConvTranspose2d(8, 8, kernel_size=(3, 3), stride=(1, 1))\n",
            "    (1): ReLU()\n",
            "    (2): ConvTranspose2d(8, 3, kernel_size=(3, 3), stride=(1, 1))\n",
            "    (3): Tanh()\n",
            "  )\n",
            ")\n"
          ]
        }
      ]
    },
    {
      "cell_type": "code",
      "source": [
        "criterion = nn.MSELoss()\n",
        "optimizer = optim.Adam(model.parameters(), lr=lr)"
      ],
      "metadata": {
        "id": "mf4RnvLkrrwE"
      },
      "execution_count": null,
      "outputs": []
    },
    {
      "cell_type": "code",
      "source": [
        "def train(model, trainloader, epoch_num):\n",
        "    train_loss = []\n",
        "    for epoch in range(epoch_num):\n",
        "        running_loss = 0.0\n",
        "        for data in trainloader:\n",
        "            img, _ = data\n",
        "            img = img.to(device)\n",
        "            optimizer.zero_grad()\n",
        "            outputs = model(img)\n",
        "            loss = criterion(outputs, img)\n",
        "            loss.backward()\n",
        "            optimizer.step()\n",
        "            running_loss += loss.item()\n",
        "\n",
        "        loss = running_loss / len(trainloader)\n",
        "        train_loss.append(loss)\n",
        "        print('Epoch: {} , Train Loss: {:.3f}'.format(\n",
        "            epoch+1, loss))\n",
        "        if epoch % 10 == 0:\n",
        "            save_recon_image(img.cpu().data, name='./AE_Conv_CIFAR10_Images/original{}.png'.format(epoch))\n",
        "            save_recon_image(outputs.cpu().data, name='./AE_Conv_CIFAR10_Images/decoded{}.png'.format(epoch))\n",
        "    return train_loss\n"
      ],
      "metadata": {
        "id": "sCaYE07ToWdI"
      },
      "execution_count": null,
      "outputs": []
    },
    {
      "cell_type": "code",
      "source": [
        "def test(model, testloader):\n",
        "     for batch in testloader:\n",
        "        img, _ = batch\n",
        "        img = img.to(device)\n",
        "        outputs = model(img)\n",
        "        outputs = outputs.view(outputs.size(0), 3, 32, 32).cpu().data\n",
        "        save_image(img,'original_image.png')\n",
        "        save_image(outputs, 'ae_conv_cifar10_reconstruction.png')\n",
        "        break"
      ],
      "metadata": {
        "id": "WVwsKuel3Bqo"
      },
      "execution_count": null,
      "outputs": []
    },
    {
      "cell_type": "code",
      "source": [
        "device = get_device()\n",
        "print(device)\n",
        "model.to(device)\n",
        "make_dir()\n",
        "train_loss = train(model, trainloader, epoch_num)\n",
        "plt.figure()\n",
        "plt.plot(train_loss)\n",
        "plt.title('Train Loss')\n",
        "plt.xlabel('Epochs')\n",
        "plt.ylabel('Loss')\n",
        "plt.savefig('conv_ae_cifar10_loss.png')\n",
        "test(model, testloader)"
      ],
      "metadata": {
        "colab": {
          "base_uri": "https://localhost:8080/",
          "height": 663
        },
        "id": "8Zb5k70FoWZ-",
        "outputId": "45a45fd3-86c2-404d-aa67-f01836c69404"
      },
      "execution_count": null,
      "outputs": [
        {
          "output_type": "stream",
          "name": "stdout",
          "text": [
            "cuda:0\n",
            "Epoch: 1 , Train Loss: 0.025\n",
            "Epoch: 2 , Train Loss: 0.010\n",
            "Epoch: 3 , Train Loss: 0.008\n",
            "Epoch: 4 , Train Loss: 0.007\n",
            "Epoch: 5 , Train Loss: 0.006\n",
            "Epoch: 6 , Train Loss: 0.006\n",
            "Epoch: 7 , Train Loss: 0.006\n",
            "Epoch: 8 , Train Loss: 0.006\n",
            "Epoch: 9 , Train Loss: 0.005\n",
            "Epoch: 10 , Train Loss: 0.005\n"
          ]
        },
        {
          "output_type": "display_data",
          "data": {
            "text/plain": [
              "<Figure size 640x480 with 1 Axes>"
            ],
            "image/png": "[encoded data removed]"
          },
          "metadata": {}
        }
      ]
    },
    {
      "cell_type": "code",
      "source": [],
      "metadata": {
        "id": "5ZFuOuURNPaN"
      },
      "execution_count": null,
      "outputs": []
    }
  ]
}
