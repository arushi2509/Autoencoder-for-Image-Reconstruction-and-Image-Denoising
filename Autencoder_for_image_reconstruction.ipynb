{
  "nbformat": 4,
  "nbformat_minor": 0,
  "metadata": {
    "colab": {
      "provenance": []
    },
    "kernelspec": {
      "name": "python3",
      "display_name": "Python 3"
    },
    "language_info": {
      "name": "python"
    },
    "accelerator": "GPU",
    "gpuClass": "standard"
  },
  "cells": [
    {
      "cell_type": "code",
      "execution_count": 15,
      "metadata": {
        "colab": {
          "base_uri": "https://localhost:8080/",
          "height": 346
        },
        "id": "dkdkKbcYoT4L",
        "outputId": "ace6a533-d3cc-4c1a-97a0-b25f2f404c5b"
      },
      "outputs": [
        {
          "output_type": "error",
          "ename": "MessageError",
          "evalue": "ignored",
          "traceback": [
            "\u001b[0;31m---------------------------------------------------------------------------\u001b[0m",
            "\u001b[0;31mMessageError\u001b[0m                              Traceback (most recent call last)",
            "\u001b[0;32m<ipython-input-15-d5df0069828e>\u001b[0m in \u001b[0;36m<cell line: 2>\u001b[0;34m()\u001b[0m\n\u001b[1;32m      1\u001b[0m \u001b[0;32mfrom\u001b[0m \u001b[0mgoogle\u001b[0m\u001b[0;34m.\u001b[0m\u001b[0mcolab\u001b[0m \u001b[0;32mimport\u001b[0m \u001b[0mdrive\u001b[0m\u001b[0;34m\u001b[0m\u001b[0;34m\u001b[0m\u001b[0m\n\u001b[0;32m----> 2\u001b[0;31m \u001b[0mdrive\u001b[0m\u001b[0;34m.\u001b[0m\u001b[0mmount\u001b[0m\u001b[0;34m(\u001b[0m\u001b[0;34m'/content/drive'\u001b[0m\u001b[0;34m)\u001b[0m\u001b[0;34m\u001b[0m\u001b[0;34m\u001b[0m\u001b[0m\n\u001b[0m",
            "\u001b[0;32m/usr/local/lib/python3.9/dist-packages/google/colab/drive.py\u001b[0m in \u001b[0;36mmount\u001b[0;34m(mountpoint, force_remount, timeout_ms, readonly)\u001b[0m\n\u001b[1;32m    101\u001b[0m \u001b[0;32mdef\u001b[0m \u001b[0mmount\u001b[0m\u001b[0;34m(\u001b[0m\u001b[0mmountpoint\u001b[0m\u001b[0;34m,\u001b[0m \u001b[0mforce_remount\u001b[0m\u001b[0;34m=\u001b[0m\u001b[0;32mFalse\u001b[0m\u001b[0;34m,\u001b[0m \u001b[0mtimeout_ms\u001b[0m\u001b[0;34m=\u001b[0m\u001b[0;36m120000\u001b[0m\u001b[0;34m,\u001b[0m \u001b[0mreadonly\u001b[0m\u001b[0;34m=\u001b[0m\u001b[0;32mFalse\u001b[0m\u001b[0;34m)\u001b[0m\u001b[0;34m:\u001b[0m\u001b[0;34m\u001b[0m\u001b[0;34m\u001b[0m\u001b[0m\n\u001b[1;32m    102\u001b[0m   \u001b[0;34m\"\"\"Mount your Google Drive at the specified mountpoint path.\"\"\"\u001b[0m\u001b[0;34m\u001b[0m\u001b[0;34m\u001b[0m\u001b[0m\n\u001b[0;32m--> 103\u001b[0;31m   return _mount(\n\u001b[0m\u001b[1;32m    104\u001b[0m       \u001b[0mmountpoint\u001b[0m\u001b[0;34m,\u001b[0m\u001b[0;34m\u001b[0m\u001b[0;34m\u001b[0m\u001b[0m\n\u001b[1;32m    105\u001b[0m       \u001b[0mforce_remount\u001b[0m\u001b[0;34m=\u001b[0m\u001b[0mforce_remount\u001b[0m\u001b[0;34m,\u001b[0m\u001b[0;34m\u001b[0m\u001b[0;34m\u001b[0m\u001b[0m\n",
            "\u001b[0;32m/usr/local/lib/python3.9/dist-packages/google/colab/drive.py\u001b[0m in \u001b[0;36m_mount\u001b[0;34m(mountpoint, force_remount, timeout_ms, ephemeral, readonly)\u001b[0m\n\u001b[1;32m    130\u001b[0m   )\n\u001b[1;32m    131\u001b[0m   \u001b[0;32mif\u001b[0m \u001b[0mephemeral\u001b[0m\u001b[0;34m:\u001b[0m\u001b[0;34m\u001b[0m\u001b[0;34m\u001b[0m\u001b[0m\n\u001b[0;32m--> 132\u001b[0;31m     _message.blocking_request(\n\u001b[0m\u001b[1;32m    133\u001b[0m         \u001b[0;34m'request_auth'\u001b[0m\u001b[0;34m,\u001b[0m \u001b[0mrequest\u001b[0m\u001b[0;34m=\u001b[0m\u001b[0;34m{\u001b[0m\u001b[0;34m'authType'\u001b[0m\u001b[0;34m:\u001b[0m \u001b[0;34m'dfs_ephemeral'\u001b[0m\u001b[0;34m}\u001b[0m\u001b[0;34m,\u001b[0m \u001b[0mtimeout_sec\u001b[0m\u001b[0;34m=\u001b[0m\u001b[0;32mNone\u001b[0m\u001b[0;34m\u001b[0m\u001b[0;34m\u001b[0m\u001b[0m\n\u001b[1;32m    134\u001b[0m     )\n",
            "\u001b[0;32m/usr/local/lib/python3.9/dist-packages/google/colab/_message.py\u001b[0m in \u001b[0;36mblocking_request\u001b[0;34m(request_type, request, timeout_sec, parent)\u001b[0m\n\u001b[1;32m    174\u001b[0m       \u001b[0mrequest_type\u001b[0m\u001b[0;34m,\u001b[0m \u001b[0mrequest\u001b[0m\u001b[0;34m,\u001b[0m \u001b[0mparent\u001b[0m\u001b[0;34m=\u001b[0m\u001b[0mparent\u001b[0m\u001b[0;34m,\u001b[0m \u001b[0mexpect_reply\u001b[0m\u001b[0;34m=\u001b[0m\u001b[0;32mTrue\u001b[0m\u001b[0;34m\u001b[0m\u001b[0;34m\u001b[0m\u001b[0m\n\u001b[1;32m    175\u001b[0m   )\n\u001b[0;32m--> 176\u001b[0;31m   \u001b[0;32mreturn\u001b[0m \u001b[0mread_reply_from_input\u001b[0m\u001b[0;34m(\u001b[0m\u001b[0mrequest_id\u001b[0m\u001b[0;34m,\u001b[0m \u001b[0mtimeout_sec\u001b[0m\u001b[0;34m)\u001b[0m\u001b[0;34m\u001b[0m\u001b[0;34m\u001b[0m\u001b[0m\n\u001b[0m",
            "\u001b[0;32m/usr/local/lib/python3.9/dist-packages/google/colab/_message.py\u001b[0m in \u001b[0;36mread_reply_from_input\u001b[0;34m(message_id, timeout_sec)\u001b[0m\n\u001b[1;32m     94\u001b[0m     \u001b[0mreply\u001b[0m \u001b[0;34m=\u001b[0m \u001b[0m_read_next_input_message\u001b[0m\u001b[0;34m(\u001b[0m\u001b[0;34m)\u001b[0m\u001b[0;34m\u001b[0m\u001b[0;34m\u001b[0m\u001b[0m\n\u001b[1;32m     95\u001b[0m     \u001b[0;32mif\u001b[0m \u001b[0mreply\u001b[0m \u001b[0;34m==\u001b[0m \u001b[0m_NOT_READY\u001b[0m \u001b[0;32mor\u001b[0m \u001b[0;32mnot\u001b[0m \u001b[0misinstance\u001b[0m\u001b[0;34m(\u001b[0m\u001b[0mreply\u001b[0m\u001b[0;34m,\u001b[0m \u001b[0mdict\u001b[0m\u001b[0;34m)\u001b[0m\u001b[0;34m:\u001b[0m\u001b[0;34m\u001b[0m\u001b[0;34m\u001b[0m\u001b[0m\n\u001b[0;32m---> 96\u001b[0;31m       \u001b[0mtime\u001b[0m\u001b[0;34m.\u001b[0m\u001b[0msleep\u001b[0m\u001b[0;34m(\u001b[0m\u001b[0;36m0.025\u001b[0m\u001b[0;34m)\u001b[0m\u001b[0;34m\u001b[0m\u001b[0;34m\u001b[0m\u001b[0m\n\u001b[0m\u001b[1;32m     97\u001b[0m       \u001b[0;32mcontinue\u001b[0m\u001b[0;34m\u001b[0m\u001b[0;34m\u001b[0m\u001b[0m\n\u001b[1;32m     98\u001b[0m     if (\n",
            "\u001b[0;31mMessageError\u001b[0m: Error: credential propagation was unsuccessful"
          ]
        }
      ],
      "source": [
        "from google.colab import drive\n",
        "drive.mount('/content/drive')"
      ]
    },
    {
      "cell_type": "code",
      "source": [
        "import os\n",
        "import torch \n",
        "import torchvision\n",
        "import torch.nn as nn\n",
        "import torchvision.transforms as transforms\n",
        "import torch.optim as optim\n",
        "import torch.nn.functional as F\n",
        "import matplotlib.pyplot as plt\n",
        "from torchvision import datasets\n",
        "from torch.utils.data import DataLoader\n",
        "from torchvision.utils import save_image\n"
      ],
      "metadata": {
        "id": "0Ub_oqMEoWrD"
      },
      "execution_count": 5,
      "outputs": []
    },
    {
      "cell_type": "code",
      "source": [
        "def get_device():\n",
        "    if torch.cuda.is_available():\n",
        "        device = 'cuda:0'\n",
        "    else:\n",
        "        device = 'cpu'\n",
        "    return device"
      ],
      "metadata": {
        "id": "DW8KxrN4oWoU"
      },
      "execution_count": 6,
      "outputs": []
    },
    {
      "cell_type": "code",
      "source": [
        "transform = transforms.Compose([\n",
        "    transforms.ToTensor(),\n",
        "    transforms.Normalize((0.5, 0.5, 0.5), (0.5, 0.5, 0.5))\n",
        "])"
      ],
      "metadata": {
        "id": "rh-JrebTosuQ"
      },
      "execution_count": 7,
      "outputs": []
    },
    {
      "cell_type": "code",
      "source": [
        "epoch_num = 50\n",
        "lr = 1e-3\n",
        "batchsize = 32"
      ],
      "metadata": {
        "id": "Nr5cYgN0rDG5"
      },
      "execution_count": 8,
      "outputs": []
    },
    {
      "cell_type": "code",
      "source": [
        "trainset = datasets.CIFAR10(root='./data',train=True, download=True, transform=transform)\n",
        "\n",
        "testset = datasets.CIFAR10(root='./data', train=False, download=True,transform=transform)\n",
        "\n",
        "trainloader = DataLoader(trainset, batch_size=batchsize, shuffle=True)\n",
        "\n",
        "testloader = DataLoader(testset, batch_size=batchsize, shuffle=True)"
      ],
      "metadata": {
        "colab": {
          "base_uri": "https://localhost:8080/"
        },
        "id": "w2N1wePioWls",
        "outputId": "28d91e14-2717-48a8-917b-ee945cabc238"
      },
      "execution_count": 9,
      "outputs": [
        {
          "output_type": "stream",
          "name": "stdout",
          "text": [
            "Downloading https://www.cs.toronto.edu/~kriz/cifar-10-python.tar.gz to ./data/cifar-10-python.tar.gz\n"
          ]
        },
        {
          "output_type": "stream",
          "name": "stderr",
          "text": [
            "100%|██████████| 170498071/170498071 [00:05<00:00, 32581950.67it/s]\n"
          ]
        },
        {
          "output_type": "stream",
          "name": "stdout",
          "text": [
            "Extracting ./data/cifar-10-python.tar.gz to ./data\n",
            "Files already downloaded and verified\n"
          ]
        }
      ]
    },
    {
      "cell_type": "code",
      "source": [
        "def save_recon_image(img, name):\n",
        "    img = img.view(img.size(0), 3, 32, 32)\n",
        "    save_image(img, name)\n",
        "\n",
        "def make_dir():\n",
        "    image_dir = 'AE_Conv_CIFAR10_Images'\n",
        "    if not os.path.exists(image_dir):\n",
        "        os.makedirs(image_dir)"
      ],
      "metadata": {
        "id": "azw5Ij_BoWiq"
      },
      "execution_count": 10,
      "outputs": []
    },
    {
      "cell_type": "code",
      "source": [
        "class Autoencoder(nn.Module):\n",
        "    def __init__(self):\n",
        "        super(Autoencoder, self).__init__()\n",
        "        # encoder\n",
        "        self.enc1 = nn.Conv2d(\n",
        "            in_channels=3, out_channels=8, kernel_size=3,stride=1, padding=0\n",
        "        )\n",
        "        self.enc2 = nn.Conv2d(\n",
        "            in_channels=8, out_channels=8, kernel_size=3,stride=1, padding=0\n",
        "        )\n",
        "        # decoder \n",
        "        self.dec1 = nn.ConvTranspose2d(\n",
        "            in_channels=8, out_channels=8, kernel_size=3,stride=1, padding=0\n",
        "        )\n",
        "        self.dec2 = nn.ConvTranspose2d(\n",
        "            in_channels=8, out_channels=3, kernel_size=3,stride=1, padding=0\n",
        "        )\n",
        "    def forward(self, x):\n",
        "       x = F.relu(self.enc1(x))\n",
        "       x = F.relu(self.enc2(x))\n",
        "       x = F.relu(self.dec1(x))\n",
        "       x = F.relu(self.dec2(x))\n",
        "       return x\n",
        "model = Autoencoder()\n",
        "print(model)"
      ],
      "metadata": {
        "colab": {
          "base_uri": "https://localhost:8080/"
        },
        "id": "AoNUltF1oWf2",
        "outputId": "8f5aa7cb-ed7c-48c5-82b1-c20aaee0760f"
      },
      "execution_count": 11,
      "outputs": [
        {
          "output_type": "stream",
          "name": "stdout",
          "text": [
            "Autoencoder(\n",
            "  (enc1): Conv2d(3, 8, kernel_size=(3, 3), stride=(1, 1))\n",
            "  (enc2): Conv2d(8, 8, kernel_size=(3, 3), stride=(1, 1))\n",
            "  (dec1): ConvTranspose2d(8, 8, kernel_size=(3, 3), stride=(1, 1))\n",
            "  (dec2): ConvTranspose2d(8, 3, kernel_size=(3, 3), stride=(1, 1))\n",
            ")\n"
          ]
        }
      ]
    },
    {
      "cell_type": "code",
      "source": [
        "criterion = nn.MSELoss()\n",
        "optimizer = optim.Adam(model.parameters(), lr=lr)"
      ],
      "metadata": {
        "id": "mf4RnvLkrrwE"
      },
      "execution_count": 12,
      "outputs": []
    },
    {
      "cell_type": "code",
      "source": [
        "def train(model, trainloader, epoch_num):\n",
        "    train_loss = []\n",
        "    for epoch in range(epoch_num):\n",
        "        running_loss = 0.0\n",
        "        for data in trainloader:\n",
        "            img, _ = data \n",
        "            img = img.to(device)\n",
        "            optimizer.zero_grad()\n",
        "            outputs = model(img)\n",
        "            loss = criterion(outputs, img)\n",
        "            loss.backward()\n",
        "            optimizer.step()\n",
        "            running_loss += loss.item()\n",
        "        \n",
        "        loss = running_loss / len(trainloader)\n",
        "        train_loss.append(loss)\n",
        "        print('Epoch: {} , Train Loss: {:.3f}'.format(\n",
        "            epoch+1, loss))\n",
        "        if epoch % 10 == 0:\n",
        "            save_recon_image(img.cpu().data, name='./AE_Conv_CIFAR10_Images/original{}.png'.format(epoch))\n",
        "            save_recon_image(outputs.cpu().data, name='./AE_Conv_CIFAR10_Images/decoded{}.png'.format(epoch))\n",
        "    return train_loss\n"
      ],
      "metadata": {
        "id": "sCaYE07ToWdI"
      },
      "execution_count": 16,
      "outputs": []
    },
    {
      "cell_type": "code",
      "source": [
        "def test(model, testloader):\n",
        "     for batch in testloader:\n",
        "        img, _ = batch\n",
        "        img = img.to(device)\n",
        "        outputs = model(img)\n",
        "        outputs = outputs.view(outputs.size(0), 3, 32, 32).cpu().data\n",
        "        save_image(img,'original_image.png')\n",
        "        save_image(outputs, 'ae_conv_cifar10_reconstruction.png')\n",
        "        break"
      ],
      "metadata": {
        "id": "WVwsKuel3Bqo"
      },
      "execution_count": 17,
      "outputs": []
    },
    {
      "cell_type": "code",
      "source": [
        "device = get_device()\n",
        "print(device)\n",
        "model.to(device)\n",
        "make_dir()\n",
        "train_loss = train(model, trainloader, epoch_num)\n",
        "plt.figure()\n",
        "plt.plot(train_loss)\n",
        "plt.title('Train Loss')\n",
        "plt.xlabel('Epochs')\n",
        "plt.ylabel('Loss')\n",
        "plt.savefig('conv_ae_cifar10_loss.png')\n",
        "test(model, testloader)"
      ],
      "metadata": {
        "colab": {
          "base_uri": "https://localhost:8080/",
          "height": 1000
        },
        "id": "8Zb5k70FoWZ-",
        "outputId": "efc277e5-536c-4b18-a405-44c8c4e918ae"
      },
      "execution_count": 18,
      "outputs": [
        {
          "output_type": "stream",
          "name": "stdout",
          "text": [
            "cpu\n",
            "Epoch: 1 , Train Loss: 0.152\n",
            "Epoch: 2 , Train Loss: 0.145\n",
            "Epoch: 3 , Train Loss: 0.144\n",
            "Epoch: 4 , Train Loss: 0.144\n",
            "Epoch: 5 , Train Loss: 0.144\n",
            "Epoch: 6 , Train Loss: 0.143\n",
            "Epoch: 7 , Train Loss: 0.143\n",
            "Epoch: 8 , Train Loss: 0.143\n",
            "Epoch: 9 , Train Loss: 0.143\n",
            "Epoch: 10 , Train Loss: 0.143\n",
            "Epoch: 11 , Train Loss: 0.143\n",
            "Epoch: 12 , Train Loss: 0.143\n",
            "Epoch: 13 , Train Loss: 0.143\n",
            "Epoch: 14 , Train Loss: 0.143\n",
            "Epoch: 15 , Train Loss: 0.143\n",
            "Epoch: 16 , Train Loss: 0.143\n",
            "Epoch: 17 , Train Loss: 0.143\n",
            "Epoch: 18 , Train Loss: 0.143\n",
            "Epoch: 19 , Train Loss: 0.143\n",
            "Epoch: 20 , Train Loss: 0.143\n",
            "Epoch: 21 , Train Loss: 0.143\n",
            "Epoch: 22 , Train Loss: 0.143\n",
            "Epoch: 23 , Train Loss: 0.143\n",
            "Epoch: 24 , Train Loss: 0.143\n",
            "Epoch: 25 , Train Loss: 0.143\n",
            "Epoch: 26 , Train Loss: 0.143\n",
            "Epoch: 27 , Train Loss: 0.143\n",
            "Epoch: 28 , Train Loss: 0.143\n",
            "Epoch: 29 , Train Loss: 0.143\n",
            "Epoch: 30 , Train Loss: 0.143\n",
            "Epoch: 31 , Train Loss: 0.143\n",
            "Epoch: 32 , Train Loss: 0.143\n",
            "Epoch: 33 , Train Loss: 0.143\n",
            "Epoch: 34 , Train Loss: 0.143\n",
            "Epoch: 35 , Train Loss: 0.143\n",
            "Epoch: 36 , Train Loss: 0.143\n",
            "Epoch: 37 , Train Loss: 0.143\n",
            "Epoch: 38 , Train Loss: 0.143\n",
            "Epoch: 39 , Train Loss: 0.143\n",
            "Epoch: 40 , Train Loss: 0.143\n",
            "Epoch: 41 , Train Loss: 0.143\n",
            "Epoch: 42 , Train Loss: 0.143\n",
            "Epoch: 43 , Train Loss: 0.143\n",
            "Epoch: 44 , Train Loss: 0.142\n",
            "Epoch: 45 , Train Loss: 0.143\n",
            "Epoch: 46 , Train Loss: 0.142\n",
            "Epoch: 47 , Train Loss: 0.143\n",
            "Epoch: 48 , Train Loss: 0.142\n",
            "Epoch: 49 , Train Loss: 0.142\n",
            "Epoch: 50 , Train Loss: 0.142\n"
          ]
        },
        {
          "output_type": "display_data",
          "data": {
            "text/plain": [
              "<Figure size 640x480 with 1 Axes>"
            ],
            "image/png": "[encoded data removed]"
          },
          "metadata": {}
        }
      ]
    },
    {
      "cell_type": "code",
      "source": [
        "# from skimage import metrics\n",
        "# import numpy as np\n",
        "# def test_compare(model, testloader):\n",
        "#      avg_psnr=0\n",
        "#      avg_ssim=0\n",
        "#      testset_size=0\n",
        "#      for idx, batch in enumerate(testloader):\n",
        "#         img, _ = batch\n",
        "#         img = img.to(device)\n",
        "#         outputs = model(img)\n",
        "#         batch_avg_psnr=0\n",
        "#         batch_avg_ssim=0\n",
        "#         for i in range(len(img)):\n",
        "#             original=np.transpose(img[i].detach().cpu(), (1, 2, 0)).numpy()\n",
        "#             recon=np.transpose(outputs[i].detach().cpu(), (1, 2, 0)).numpy()\n",
        "#             batch_avg_psnr+=metrics.peak_signal_noise_ratio(original,recon)\n",
        "#             batch_avg_ssim+=metrics.structural_similarity(original,recon,multichannel=True)\n",
        "#         avg_psnr+=batch_avg_psnr\n",
        "#         avg_ssim+=batch_avg_ssim\n",
        "#         testset_size+=len(img)\n",
        "#         outputs = outputs.view(outputs.size(0), 3, 32, 32).cpu().data\n",
        "\n",
        "#      print(\"On Test data of {} examples:\\nAverage PSNR:{:.3f} \\nAverage SSIM: {:.3f}\".format(testset_size,avg_psnr/testset_size,avg_ssim/testset_size))\n",
        "     "
      ],
      "metadata": {
        "id": "P8f90eys4jPq"
      },
      "execution_count": 18,
      "outputs": []
    },
    {
      "cell_type": "code",
      "source": [
        "# test_compare(model, testloader)"
      ],
      "metadata": {
        "colab": {
          "base_uri": "https://localhost:8080/",
          "height": 166
        },
        "id": "bm4hJOXsCMDP",
        "outputId": "b2808e64-57fa-4f3b-e50f-e71c5219d4e3"
      },
      "execution_count": 3,
      "outputs": [
        {
          "output_type": "error",
          "ename": "NameError",
          "evalue": "ignored",
          "traceback": [
            "\u001b[0;31m---------------------------------------------------------------------------\u001b[0m",
            "\u001b[0;31mNameError\u001b[0m                                 Traceback (most recent call last)",
            "\u001b[0;32m<ipython-input-3-f3efbdd9637e>\u001b[0m in \u001b[0;36m<cell line: 1>\u001b[0;34m()\u001b[0m\n\u001b[0;32m----> 1\u001b[0;31m \u001b[0mtest_compare\u001b[0m\u001b[0;34m(\u001b[0m\u001b[0mmodel\u001b[0m\u001b[0;34m,\u001b[0m \u001b[0mtestloader\u001b[0m\u001b[0;34m)\u001b[0m\u001b[0;34m\u001b[0m\u001b[0;34m\u001b[0m\u001b[0m\n\u001b[0m",
            "\u001b[0;31mNameError\u001b[0m: name 'test_compare' is not defined"
          ]
        }
      ]
    },
    {
      "cell_type": "code",
      "source": [],
      "metadata": {
        "id": "5ZFuOuURNPaN"
      },
      "execution_count": null,
      "outputs": []
    }
  ]
}